{
  "nbformat": 4,
  "nbformat_minor": 0,
  "metadata": {
    "colab": {
      "provenance": [],
      "gpuType": "T4"
    },
    "kernelspec": {
      "name": "python3",
      "display_name": "Python 3"
    },
    "language_info": {
      "name": "python"
    },
    "accelerator": "GPU"
  },
  "cells": [
    {
      "cell_type": "markdown",
      "source": [
        "#Assignment 3: RNNs on game reviews"
      ],
      "metadata": {
        "id": "0C7jR3qGARuB"
      }
    },
    {
      "cell_type": "markdown",
      "source": [
        "###Students: Andor Tamás, Seppe Vanrietvelde and Victor Tuytte"
      ],
      "metadata": {
        "id": "rjT3XVyIBfjI"
      }
    },
    {
      "cell_type": "markdown",
      "source": [
        "In this assignment a recurrent neural network (RNN) will be build using Keras and evaluated on predicting whether game reviews are labeled as funny."
      ],
      "metadata": {
        "id": "ixPWMMNPBsY-"
      }
    },
    {
      "cell_type": "code",
      "execution_count": null,
      "metadata": {
        "id": "6yBnLo_VBnZn"
      },
      "outputs": [],
      "source": [
        "from imblearn.under_sampling import RandomUnderSampler\n",
        "import json\n",
        "from keras.layers import LSTM, Dense, Embedding, Input\n",
        "from keras.models import Sequential\n",
        "from keras.preprocessing import sequence\n",
        "import matplotlib.pyplot as plt\n",
        "import nltk\n",
        "from nltk.tokenize import word_tokenize\n",
        "from nltk.stem import WordNetLemmatizer\n",
        "from nltk.corpus import wordnet, stopwords\n",
        "from nltk import pos_tag\n",
        "import numpy as np\n",
        "import re\n",
        "from sklearn.metrics import confusion_matrix, ConfusionMatrixDisplay\n",
        "from sklearn.model_selection import train_test_split\n",
        "import tensorflow.keras as keras\n",
        "\n",
        "from dl_utils import plot_history"
      ]
    },
    {
      "cell_type": "code",
      "source": [
        "nltk.download('averaged_perceptron_tagger_eng')\n",
        "nltk.download('stopwords')\n",
        "nltk.download('wordnet')"
      ],
      "metadata": {
        "id": "tAKxx8X53nxK",
        "outputId": "8fb16c14-1af6-4fa9-f515-f5f60bfc25f9",
        "colab": {
          "base_uri": "https://localhost:8080/"
        }
      },
      "execution_count": null,
      "outputs": [
        {
          "output_type": "stream",
          "name": "stderr",
          "text": [
            "[nltk_data] Downloading package averaged_perceptron_tagger_eng to\n",
            "[nltk_data]     /root/nltk_data...\n",
            "[nltk_data]   Package averaged_perceptron_tagger_eng is already up-to-\n",
            "[nltk_data]       date!\n",
            "[nltk_data] Downloading package stopwords to /root/nltk_data...\n",
            "[nltk_data]   Package stopwords is already up-to-date!\n",
            "[nltk_data] Downloading package wordnet to /root/nltk_data...\n"
          ]
        },
        {
          "output_type": "execute_result",
          "data": {
            "text/plain": [
              "True"
            ]
          },
          "metadata": {},
          "execution_count": 8
        }
      ]
    },
    {
      "cell_type": "markdown",
      "source": [
        "##Loading the data"
      ],
      "metadata": {
        "id": "jUqTZ_RQTTc3"
      }
    },
    {
      "cell_type": "markdown",
      "source": [
        "Run the code block below, while the `game_review.json` file is in the current working directory, to save the review texts and number of funny votes given to those reviews in arrays."
      ],
      "metadata": {
        "id": "zvfx03NsCgRG"
      }
    },
    {
      "cell_type": "code",
      "source": [
        "with open('game_review.json') as file:\n",
        "    X = []\n",
        "    y = []\n",
        "    data = json.load(file)\n",
        "    for _, review in data[\"reviews\"].items():\n",
        "        X.append(review[\"review\"])\n",
        "        y.append(review[\"votes_funny\"])\n",
        "\n",
        "X = np.array(X)\n",
        "y = np.array(y)"
      ],
      "metadata": {
        "id": "1S2Dc-aFC5_Z"
      },
      "execution_count": null,
      "outputs": []
    },
    {
      "cell_type": "markdown",
      "source": [
        "Some examples:"
      ],
      "metadata": {
        "id": "jAAJd5khDDNY"
      }
    },
    {
      "cell_type": "code",
      "source": [
        "print(X[:10])\n",
        "print(y[:10])"
      ],
      "metadata": {
        "colab": {
          "base_uri": "https://localhost:8080/"
        },
        "id": "WqvLU3A0Q-F3",
        "outputId": "6c4d4811-dae2-42bb-cb6d-6bf64c0a006d"
      },
      "execution_count": null,
      "outputs": [
        {
          "output_type": "stream",
          "name": "stdout",
          "text": [
            "['Game runs amazingly and having a ton of fun :) no valstrax though ;('\n",
            " 'This game is a disgrace to the Monster Hunter IP. Do better Capcom.'\n",
            " \"It's the most accessible and detailed monster hunter title to date. The weapons have mostly seen big improvements with the bowguns being a noticeable downgrade from previous titles. There's so much to do with so much detail to breathe life into the environments. My favorite moments have been discovering music in a camp with my friends and taking on a giant ice wyrm on a mountain. Highly recommend.\"\n",
            " 'as a gamer i have a right to get destroyed when I want, and right now this game does not offer that'\n",
            " \"Currently, I have not run into a majority of graphical errors that most people have. What few I did run into, were very breif, but highly distracting. After the few updates done, I've yet to encounter the same errors again.\\r\\n\\r\\nThis game is a logical evolution of MH world and MH Rise. The hub integrated into the hunting enviorment creates a living world. Time to Kill/Hunt a monster is far down compared to previous entries. But that's good when you actively have wyverns/hunts roaming around.\\r\\n\\r\\nThis game is exactly what I wanted, and the only thing it lacks is things that I would prefer based on personal taste and Genre.\"\n",
            " 'Please review bomb this game so Capcom will do something about this terrible pc performance.'\n",
            " 'Great game, would monster hunter again. Graphics are buttz though'\n",
            " 'I\\'ll put the TLDR here to be considerate, if you haven\\'t played world, you\\'ll probably get better value out of that.\\n\\nI\\'ve been playing MH since tri, I think I had 500 some hours in generations, I couldn\\'t quite get into rise because it felt too easy and arcadey for me personally, but I do have over 1000 hours in World, so here\\'s my opinion on the state of wilds.\\n\\nGood gameplay, the weapons feel better than ever, I can\\'t get enough of hitting offset attacks, it\\'s a very satisfying combat system. Sometimes the wound system can feel cheesy but other times it can be really clutch and I think it should probably balance out whenever master rank comes out, it definitely needs to be better balanced for multiplayer hunts because I really just feel bad for the monsters like this, which leads me to my next point.\\n\\nNot enough monsters. Sorry.\\nThere\\'s just not enough. I keep rehunting the same monsters because the combat is just that fun, but good lord am I bored of these guys, even if they\\'re more life-like than ever. I saw a rathalos yeet some poor plant eater up into the sky and I was like, \"damn, that\\'s pretty sick,\" but I\\'m a little tired of Rathalos, y\\'know? There\\'s just not enough new monsters, I like the new ones, but there really needs to be more if you\\'re gonna charge 70$ for it.\\n\\nLastly, obviously, the performance issues. I\\'m not happy having to choose between choppy dlss text or dropping my resolution, there\\'s no reason I shouldn\\'t be able to run 4k 60 on my 4080 5800x3d rig. That\\'s really just inexcusable at this price point. The complicated weather and day and night cycles limit the ways that this game can be optimized, but you\\'ve gotta find a way because this is kinda ridiculous, and if it\\'s bad for me, on a 4080? I can\\'t recommend this to the general public. \\nl mean don\\'t get me wrong, it\\'s not like the text really bothers me when I\\'m fighting shit, and the game looks good in general, but most people can\\'t really run this game that well, and it\\'s going to be another year and then some in all likelihood before master rank comes out.\\n\\nIn the meantime, I\\'d recommend anyone that hasn\\'t played world yet to just go and play world instead, there\\'s far more bang for your buck in that title. \\n\\nI could rant about equipment and skills or whatever but we won\\'t really be able to make any solid opinions on that until master rank comes out anyways. I don\\'t know why switch axe doesn\\'t have a rey dau or a jin dahaad weapon, it\\'s got one ice axe, and one lightning axe, but it has FOUR fire axes? tf? anyway. If you have a super computer and you\\'ve played through world already, and you think rises looks stupid, fuck it I guess. 70$ is yours to spend how you choose. I\\'m enjoying myself but I can\\'t recommend the game in this state to newbies.'\n",
            " \"Great game if your PC can handle it, but I have to point out that you'll need to give some serious consideration to your PC specs. If you aren't considerably above their recommended system requirements you won't be running anywhere near 60fps even on low/medium settings.\"\n",
            " 'Congolala']\n",
            "[0 0 0 0 0 0 0 0 0 0]\n"
          ]
        }
      ]
    },
    {
      "cell_type": "markdown",
      "source": [
        "##Reformat data"
      ],
      "metadata": {
        "id": "Nfwq2c6LTn9I"
      }
    },
    {
      "cell_type": "markdown",
      "source": [
        "###Reviews"
      ],
      "metadata": {
        "id": "RwPPQOqDFIY4"
      }
    },
    {
      "cell_type": "markdown",
      "source": [
        "First, the text is divided into words. Then, stopwords are removed and all remaining words are lemmatized where possible."
      ],
      "metadata": {
        "id": "tIMXA8VoEdq9"
      }
    },
    {
      "cell_type": "code",
      "source": [
        "# Necessary for lemmatization\n",
        "def get_wordnet_pos(treebank_tag):\n",
        "    \"\"\"Convert POS tagging from NLTK to WordNet format.\"\"\"\n",
        "    if treebank_tag.startswith('J'):\n",
        "        return wordnet.ADJ\n",
        "    elif treebank_tag.startswith('V'):\n",
        "        return wordnet.VERB\n",
        "    elif treebank_tag.startswith('N'):\n",
        "        return wordnet.NOUN\n",
        "    elif treebank_tag.startswith('R'):\n",
        "        return wordnet.ADV\n",
        "    else:\n",
        "        return wordnet.NOUN  # Default to noun"
      ],
      "metadata": {
        "id": "Zp2Mtn4r3v8M"
      },
      "execution_count": null,
      "outputs": []
    },
    {
      "cell_type": "code",
      "source": [
        "def text_to_words(text):\n",
        "    \"\"\"\n",
        "    Cleans text, tokenizes, and lemmatizes words.\n",
        "    \"\"\"\n",
        "    text = text.lower()\n",
        "    text = re.sub(r\"[^a-z'\\s]\", \" \", text)  # Keep only letters, spaces, and apostrophes\n",
        "    words = text.split()\n",
        "\n",
        "    # Remove words containing an apostrophe (') -> Difficult to work with and probably not informative\n",
        "    words = [word for word in words if \"'\" not in word]\n",
        "\n",
        "    # Remove stopwords\n",
        "    stop_words = set(stopwords.words('english'))\n",
        "    words = [word for word in words if word not in stop_words]\n",
        "\n",
        "    words_pos = pos_tag(words)  # Get POS tags\n",
        "    lemmatizer = WordNetLemmatizer()\n",
        "    lemmatized_words = [lemmatizer.lemmatize(word, get_wordnet_pos(pos)) for word, pos in words_pos]\n",
        "\n",
        "    return lemmatized_words"
      ],
      "metadata": {
        "id": "-7kEbV2y3xuC"
      },
      "execution_count": null,
      "outputs": []
    },
    {
      "cell_type": "code",
      "source": [
        "# Splits each review text in lists of words\n",
        "X_words = [text_to_words(text) for text in X]"
      ],
      "metadata": {
        "id": "F1UsdskK8Jep"
      },
      "execution_count": null,
      "outputs": []
    },
    {
      "cell_type": "markdown",
      "source": [
        "Then the words are tokenized."
      ],
      "metadata": {
        "id": "xunwdDamBq0Y"
      }
    },
    {
      "cell_type": "code",
      "source": [
        "# Makes dictionaries for tokenizing and detokenizing words\n",
        "unique_words = sorted(set(word for sublist in X_words for word in sublist))\n",
        "\n",
        "word_to_id = {word: idx + 1 for idx, word in enumerate(unique_words)} # Reserve zero for padding\n",
        "id_to_word = {idx: word for word, idx in word_to_id.items()}"
      ],
      "metadata": {
        "id": "M1EolVejyswM"
      },
      "execution_count": null,
      "outputs": []
    },
    {
      "cell_type": "code",
      "source": [
        "# Tokenizes words\n",
        "X_tokenized = [[word_to_id[word] for word in sublist] for sublist in X_words]"
      ],
      "metadata": {
        "id": "yTxVsKCd0_vJ"
      },
      "execution_count": null,
      "outputs": []
    },
    {
      "cell_type": "markdown",
      "source": [
        "Finally, each review, now a list of tokens representing words, is padded until the length of the longest review."
      ],
      "metadata": {
        "id": "i9F_V9s9EsJ5"
      }
    },
    {
      "cell_type": "code",
      "source": [
        "# Pads tokenized words to the length of the longest review in words\n",
        "maxlen = len(max(X_tokenized, key=len))\n",
        "X_tokenized_padded = sequence.pad_sequences(X_tokenized, maxlen=maxlen, padding=\"post\")"
      ],
      "metadata": {
        "id": "2tz-iWfn4DYW"
      },
      "execution_count": null,
      "outputs": []
    },
    {
      "cell_type": "markdown",
      "source": [
        "###\"Funny\" votes"
      ],
      "metadata": {
        "id": "RtMM4ySQFL37"
      }
    },
    {
      "cell_type": "markdown",
      "source": [
        "The amount of funny votes reviews get is extremely skewed as seen by the distribution below."
      ],
      "metadata": {
        "id": "OrR6ZWGGFfZD"
      }
    },
    {
      "cell_type": "code",
      "source": [
        "# Distribution of outcome values\n",
        "plt.hist(y)\n",
        "\n",
        "unique, counts = np.unique(y, return_counts=True)\n",
        "for u, c in zip(unique, counts):\n",
        "    print(f\"{u}: {c}\")"
      ],
      "metadata": {
        "colab": {
          "base_uri": "https://localhost:8080/",
          "height": 673
        },
        "id": "NG15_3T4RHb-",
        "outputId": "270abf5a-e2cf-4d57-fe69-9d37c488c993"
      },
      "execution_count": null,
      "outputs": [
        {
          "output_type": "stream",
          "name": "stdout",
          "text": [
            "0: 16527\n",
            "1: 535\n",
            "2: 84\n",
            "3: 24\n",
            "4: 17\n",
            "5: 3\n",
            "6: 1\n",
            "7: 1\n",
            "8: 1\n",
            "9: 2\n",
            "10: 2\n",
            "11: 1\n",
            "15: 1\n",
            "21: 1\n"
          ]
        },
        {
          "output_type": "display_data",
          "data": {
            "text/plain": [
              "<Figure size 640x480 with 1 Axes>"
            ],
            "image/png": "[encoded data removed]"
          },
          "metadata": {}
        }
      ]
    },
    {
      "cell_type": "markdown",
      "source": [
        "Let's convert the regression problem into a binary classification problem. For example whether a review does or does not have votes. The new outcome variable is still extremely imbalanced as almost all reviews got not votes and that group can't be split up further."
      ],
      "metadata": {
        "id": "t0EQP805UNxD"
      }
    },
    {
      "cell_type": "code",
      "source": [
        "# Changing the outcome to binary\n",
        "y_binary = (y > 0).astype(\"float32\")\n",
        "plt.hist(y_binary)\n",
        "\n",
        "unique, counts = np.unique(y_binary, return_counts=True)\n",
        "for u, c in zip(unique, counts):\n",
        "    print(f\"{u}: {c}\")"
      ],
      "metadata": {
        "colab": {
          "base_uri": "https://localhost:8080/",
          "height": 465
        },
        "id": "LRt8u88JUTU_",
        "outputId": "3bb2ea29-dce1-418a-d7e2-258fc28e4e82"
      },
      "execution_count": null,
      "outputs": [
        {
          "output_type": "stream",
          "name": "stdout",
          "text": [
            "0.0: 16527\n",
            "1.0: 673\n"
          ]
        },
        {
          "output_type": "display_data",
          "data": {
            "text/plain": [
              "<Figure size 640x480 with 1 Axes>"
            ],
            "image/png": "[encoded data removed]"
          },
          "metadata": {}
        }
      ]
    },
    {
      "cell_type": "markdown",
      "source": [
        "##Splitting the data"
      ],
      "metadata": {
        "id": "_fB9tkRxXP5l"
      }
    },
    {
      "cell_type": "markdown",
      "source": [
        "A validation and test set are set aside. A fixed seed is used for reproducibility and splitting happens in a stratified manner so that each binary category is represented in the same proportion as the full data. The amount of data put in the validation and test set is intentionally very low to anticipate undersampling in the training data."
      ],
      "metadata": {
        "id": "jGtq-cB5G--k"
      }
    },
    {
      "cell_type": "code",
      "source": [
        "X_train, X_test, y_train, y_test = train_test_split(X_tokenized_padded, y_binary, test_size=0.05, random_state=42, stratify=y_binary)\n",
        "X_train, X_val, y_train, y_val  = train_test_split(X_train, y_train, test_size=0.05, random_state=42, stratify=y_train)\n",
        "# Test size set very low because undersampling the training set will shrink its size"
      ],
      "metadata": {
        "id": "FbaAmydDXPHR"
      },
      "execution_count": null,
      "outputs": []
    },
    {
      "cell_type": "markdown",
      "source": [
        "Dataset sizes after the split:"
      ],
      "metadata": {
        "id": "dtOHcJYBH_ui"
      }
    },
    {
      "cell_type": "code",
      "source": [
        "print(X_train.shape, \"training set\")\n",
        "print(X_val.shape, \"validation set\")\n",
        "print(X_test.shape, \"test set\")"
      ],
      "metadata": {
        "colab": {
          "base_uri": "https://localhost:8080/"
        },
        "id": "g6plVdt7YE7y",
        "outputId": "b5298008-3751-4d2d-ca1e-16cc948b9312"
      },
      "execution_count": null,
      "outputs": [
        {
          "output_type": "stream",
          "name": "stdout",
          "text": [
            "(15523, 1045) training set\n",
            "(817, 1045) validation set\n",
            "(860, 1045) test set\n"
          ]
        }
      ]
    },
    {
      "cell_type": "markdown",
      "source": [
        "##Undersampling the majority class"
      ],
      "metadata": {
        "id": "sMDssamvioZN"
      }
    },
    {
      "cell_type": "markdown",
      "source": [
        "To improve the accuracy on predicting the minority class, random samples from the majority class can be removed until both classes are balanced."
      ],
      "metadata": {
        "id": "6NUdQRZDI1bN"
      }
    },
    {
      "cell_type": "code",
      "source": [
        "rus = RandomUnderSampler(random_state=42)\n",
        "X_train, y_train = rus.fit_resample(X_train, y_train)"
      ],
      "metadata": {
        "id": "TBqBS_RcioB-"
      },
      "execution_count": null,
      "outputs": []
    },
    {
      "cell_type": "markdown",
      "source": [
        "The training set will for example have 607 reviews of both classes."
      ],
      "metadata": {
        "id": "vdpx0luRJKqF"
      }
    },
    {
      "cell_type": "code",
      "source": [
        "unique, counts = np.unique(y_train, return_counts=True)\n",
        "print(dict(zip(unique, counts)))"
      ],
      "metadata": {
        "id": "0WZa-_1UkwTe",
        "outputId": "15009e80-0fea-4aa8-903a-08c309344da2",
        "colab": {
          "base_uri": "https://localhost:8080/"
        }
      },
      "execution_count": null,
      "outputs": [
        {
          "output_type": "stream",
          "name": "stdout",
          "text": [
            "{np.float32(0.0): np.int64(607), np.float32(1.0): np.int64(607)}\n"
          ]
        }
      ]
    },
    {
      "cell_type": "markdown",
      "source": [
        "The new dataset sizes are then:"
      ],
      "metadata": {
        "id": "KeEA9DIVJTPS"
      }
    },
    {
      "cell_type": "code",
      "source": [
        "print(X_train.shape, \"training set\")\n",
        "print(X_val.shape, \"validation set\")\n",
        "print(X_test.shape, \"test set\")"
      ],
      "metadata": {
        "id": "ig0FEUq7lPs0",
        "outputId": "386f80c7-8c6d-49b7-c493-11baa581473f",
        "colab": {
          "base_uri": "https://localhost:8080/"
        }
      },
      "execution_count": null,
      "outputs": [
        {
          "output_type": "stream",
          "name": "stdout",
          "text": [
            "(1214, 1045) training set\n",
            "(817, 1045) validation set\n",
            "(860, 1045) test set\n"
          ]
        }
      ]
    },
    {
      "cell_type": "markdown",
      "source": [
        "# Oversampling"
      ],
      "metadata": {
        "id": "1OkQGqZZ-evM"
      }
    },
    {
      "cell_type": "markdown",
      "source": [
        "Oversampling increases recall by exposing the model to more \"funny\" examples, but it often lowers precision because the model learns to memorize duplicated data (can overfit) rather than generalize, can also lead to a low F1-score.\n",
        "\n"
      ],
      "metadata": {
        "id": "bAyGsj-p-i00"
      }
    },
    {
      "cell_type": "code",
      "source": [
        "# Check class distribution before oversampling\n",
        "print(\"Before Oversampling:\", np.bincount(y_train.astype(int)))"
      ],
      "metadata": {
        "id": "IN8hgHMo-j6Q"
      },
      "execution_count": null,
      "outputs": []
    },
    {
      "cell_type": "code",
      "source": [
        "# Apply random oversampling\n",
        "oversampler = RandomOverSampler(sampling_strategy='auto', random_state=42)\n",
        "X_train, y_train = oversampler.fit_resample(X_train, y_train)"
      ],
      "metadata": {
        "id": "DsoSePWG-t0R"
      },
      "execution_count": null,
      "outputs": []
    },
    {
      "cell_type": "code",
      "source": [
        "# Check new class distribution\n",
        "print(\"After Oversampling:\", np.bincount(y_train.astype(int)))"
      ],
      "metadata": {
        "id": "3FECV2pQ-w4_"
      },
      "execution_count": null,
      "outputs": []
    },
    {
      "cell_type": "markdown",
      "source": [
        "Epoch 1/3\n",
        "234/234 ━━━━━━━━━━━━━━━━━━━━ 1069s 5s/step - accuracy: 0.5030 - f1_score: 0.3634 - loss: 0.6937 - val_accuracy: 0.0392 - val_f1_score: 0.0718 - val_loss: 0.7008\n",
        "\n",
        "Epoch 2/3\n",
        "234/234 ━━━━━━━━━━━━━━━━━━━━ 1094s 5s/step - accuracy: 0.5045 - f1_score: 0.4908 - loss: 0.6933 - val_accuracy: 0.9608 - val_f1_score: 0.0000e+00 - val_loss: 0.6728\n",
        "\n",
        "Epoch 3/3\n",
        "234/234 ━━━━━━━━━━━━━━━━━━━━ 1104s 5s/step - accuracy: 0.4914 - f1_score: 0.3465 - loss: 0.6935 - val_accuracy: 0.9608 - val_f1_score: 0.0000e+00 - val_loss: 0.6819"
      ],
      "metadata": {
        "id": "m9go56qL-8lo"
      }
    },
    {
      "cell_type": "markdown",
      "source": [
        "##Model"
      ],
      "metadata": {
        "id": "VWl0v7sP-Nih"
      }
    },
    {
      "cell_type": "markdown",
      "source": [
        "Let's start with a simple RNN-architecture consisting of an embedding layer and 32 LSTM units with some degree of dropout. The model is optimized in binary crossentropy through the AdamW algorithm at an initial learning rate of 0.001."
      ],
      "metadata": {
        "id": "yhV8zDOdJ5gX"
      }
    },
    {
      "cell_type": "code",
      "source": [
        "max_features = len(unique_words) + 1"
      ],
      "metadata": {
        "id": "e1ORdIIj-5eM"
      },
      "execution_count": null,
      "outputs": []
    },
    {
      "cell_type": "code",
      "source": [
        "def Rnnmodel(embedding_size = 128, dropoutrate = 0.2, recurrent_dropoutrate = 0.2, lr = 0.001):\n",
        "  model = Sequential()\n",
        "  model.add(Embedding(max_features, embedding_size))\n",
        "  model.add(LSTM(32, dropout=dropoutrate, recurrent_dropout=recurrent_dropoutrate))\n",
        "  model.add(Dense(1, activation=\"sigmoid\"))\n",
        "  optimizer = keras.optimizers.AdamW(learning_rate=lr)\n",
        "  model.compile(loss=\"binary_crossentropy\", optimizer=optimizer, metrics=[\"accuracy\"])\n",
        "  return model"
      ],
      "metadata": {
        "id": "u-XQHI0K-LYG"
      },
      "execution_count": null,
      "outputs": []
    },
    {
      "cell_type": "code",
      "source": [
        "model1 = Rnnmodel()\n",
        "model1.summary()"
      ],
      "metadata": {
        "id": "Kri5qByGDO2O",
        "outputId": "e8593e3d-5105-4ae1-cd6c-aa668545b688",
        "colab": {
          "base_uri": "https://localhost:8080/",
          "height": 225
        }
      },
      "execution_count": null,
      "outputs": [
        {
          "output_type": "display_data",
          "data": {
            "text/plain": [
              "\u001b[1mModel: \"sequential\"\u001b[0m\n"
            ],
            "text/html": [
              "<pre style=\"white-space:pre;overflow-x:auto;line-height:normal;font-family:Menlo,'DejaVu Sans Mono',consolas,'Courier New',monospace\"><span style=\"font-weight: bold\">Model: \"sequential\"</span>\n",
              "</pre>\n"
            ]
          },
          "metadata": {}
        },
        {
          "output_type": "display_data",
          "data": {
            "text/plain": [
              "┏━━━━━━━━━━━━━━━━━━━━━━━━━━━━━━━━━━━━━━┳━━━━━━━━━━━━━━━━━━━━━━━━━━━━━┳━━━━━━━━━━━━━━━━━┓\n",
              "┃\u001b[1m \u001b[0m\u001b[1mLayer (type)                        \u001b[0m\u001b[1m \u001b[0m┃\u001b[1m \u001b[0m\u001b[1mOutput Shape               \u001b[0m\u001b[1m \u001b[0m┃\u001b[1m \u001b[0m\u001b[1m        Param #\u001b[0m\u001b[1m \u001b[0m┃\n",
              "┡━━━━━━━━━━━━━━━━━━━━━━━━━━━━━━━━━━━━━━╇━━━━━━━━━━━━━━━━━━━━━━━━━━━━━╇━━━━━━━━━━━━━━━━━┩\n",
              "│ embedding (\u001b[38;5;33mEmbedding\u001b[0m)                │ ?                           │     \u001b[38;5;34m0\u001b[0m (unbuilt) │\n",
              "├──────────────────────────────────────┼─────────────────────────────┼─────────────────┤\n",
              "│ lstm (\u001b[38;5;33mLSTM\u001b[0m)                          │ ?                           │     \u001b[38;5;34m0\u001b[0m (unbuilt) │\n",
              "├──────────────────────────────────────┼─────────────────────────────┼─────────────────┤\n",
              "│ dense (\u001b[38;5;33mDense\u001b[0m)                        │ ?                           │     \u001b[38;5;34m0\u001b[0m (unbuilt) │\n",
              "└──────────────────────────────────────┴─────────────────────────────┴─────────────────┘\n"
            ],
            "text/html": [
              "<pre style=\"white-space:pre;overflow-x:auto;line-height:normal;font-family:Menlo,'DejaVu Sans Mono',consolas,'Courier New',monospace\">┏━━━━━━━━━━━━━━━━━━━━━━━━━━━━━━━━━━━━━━┳━━━━━━━━━━━━━━━━━━━━━━━━━━━━━┳━━━━━━━━━━━━━━━━━┓\n",
              "┃<span style=\"font-weight: bold\"> Layer (type)                         </span>┃<span style=\"font-weight: bold\"> Output Shape                </span>┃<span style=\"font-weight: bold\">         Param # </span>┃\n",
              "┡━━━━━━━━━━━━━━━━━━━━━━━━━━━━━━━━━━━━━━╇━━━━━━━━━━━━━━━━━━━━━━━━━━━━━╇━━━━━━━━━━━━━━━━━┩\n",
              "│ embedding (<span style=\"color: #0087ff; text-decoration-color: #0087ff\">Embedding</span>)                │ ?                           │     <span style=\"color: #00af00; text-decoration-color: #00af00\">0</span> (unbuilt) │\n",
              "├──────────────────────────────────────┼─────────────────────────────┼─────────────────┤\n",
              "│ lstm (<span style=\"color: #0087ff; text-decoration-color: #0087ff\">LSTM</span>)                          │ ?                           │     <span style=\"color: #00af00; text-decoration-color: #00af00\">0</span> (unbuilt) │\n",
              "├──────────────────────────────────────┼─────────────────────────────┼─────────────────┤\n",
              "│ dense (<span style=\"color: #0087ff; text-decoration-color: #0087ff\">Dense</span>)                        │ ?                           │     <span style=\"color: #00af00; text-decoration-color: #00af00\">0</span> (unbuilt) │\n",
              "└──────────────────────────────────────┴─────────────────────────────┴─────────────────┘\n",
              "</pre>\n"
            ]
          },
          "metadata": {}
        },
        {
          "output_type": "display_data",
          "data": {
            "text/plain": [
              "\u001b[1m Total params: \u001b[0m\u001b[38;5;34m0\u001b[0m (0.00 B)\n"
            ],
            "text/html": [
              "<pre style=\"white-space:pre;overflow-x:auto;line-height:normal;font-family:Menlo,'DejaVu Sans Mono',consolas,'Courier New',monospace\"><span style=\"font-weight: bold\"> Total params: </span><span style=\"color: #00af00; text-decoration-color: #00af00\">0</span> (0.00 B)\n",
              "</pre>\n"
            ]
          },
          "metadata": {}
        },
        {
          "output_type": "display_data",
          "data": {
            "text/plain": [
              "\u001b[1m Trainable params: \u001b[0m\u001b[38;5;34m0\u001b[0m (0.00 B)\n"
            ],
            "text/html": [
              "<pre style=\"white-space:pre;overflow-x:auto;line-height:normal;font-family:Menlo,'DejaVu Sans Mono',consolas,'Courier New',monospace\"><span style=\"font-weight: bold\"> Trainable params: </span><span style=\"color: #00af00; text-decoration-color: #00af00\">0</span> (0.00 B)\n",
              "</pre>\n"
            ]
          },
          "metadata": {}
        },
        {
          "output_type": "display_data",
          "data": {
            "text/plain": [
              "\u001b[1m Non-trainable params: \u001b[0m\u001b[38;5;34m0\u001b[0m (0.00 B)\n"
            ],
            "text/html": [
              "<pre style=\"white-space:pre;overflow-x:auto;line-height:normal;font-family:Menlo,'DejaVu Sans Mono',consolas,'Courier New',monospace\"><span style=\"font-weight: bold\"> Non-trainable params: </span><span style=\"color: #00af00; text-decoration-color: #00af00\">0</span> (0.00 B)\n",
              "</pre>\n"
            ]
          },
          "metadata": {}
        }
      ]
    },
    {
      "cell_type": "code",
      "source": [
        "history = model1.fit(X_train, y_train, batch_size=128, epochs=3, validation_data=(X_val, y_val))\n",
        "plot_history(history)"
      ],
      "metadata": {
        "id": "PQftjii1PfNq",
        "outputId": "fda1ac06-8e4c-4cfb-fc11-6b82d863f388",
        "colab": {
          "base_uri": "https://localhost:8080/",
          "height": 419
        }
      },
      "execution_count": null,
      "outputs": [
        {
          "output_type": "stream",
          "name": "stdout",
          "text": [
            "Epoch 1/3\n",
            "\u001b[1m10/10\u001b[0m \u001b[32m━━━━━━━━━━━━━━━━━━━━\u001b[0m\u001b[37m\u001b[0m \u001b[1m47s\u001b[0m 4s/step - accuracy: 0.4730 - loss: 0.6948 - val_accuracy: 0.9608 - val_loss: 0.6877\n",
            "Epoch 2/3\n",
            "\u001b[1m10/10\u001b[0m \u001b[32m━━━━━━━━━━━━━━━━━━━━\u001b[0m\u001b[37m\u001b[0m \u001b[1m75s\u001b[0m 4s/step - accuracy: 0.5007 - loss: 0.6933 - val_accuracy: 0.0392 - val_loss: 0.7093\n",
            "Epoch 3/3\n",
            "\u001b[1m10/10\u001b[0m \u001b[32m━━━━━━━━━━━━━━━━━━━━\u001b[0m\u001b[37m\u001b[0m \u001b[1m43s\u001b[0m 4s/step - accuracy: 0.4981 - loss: 0.6941 - val_accuracy: 0.9608 - val_loss: 0.6746\n"
          ]
        },
        {
          "output_type": "display_data",
          "data": {
            "text/plain": [
              "<Figure size 1000x300 with 2 Axes>"
            ],
            "image/png": "[encoded data removed]"
          },
          "metadata": {}
        }
      ]
    },
    {
      "cell_type": "code",
      "source": [
        "score = model1.evaluate(X_val, y_val, verbose=0)\n",
        "\n",
        "print(\"Validation loss:\", score[0])\n",
        "print(\"Validation accuracy:\", score[1])"
      ],
      "metadata": {
        "id": "hXMlhfL9QYJS",
        "outputId": "902f4e62-c51a-456b-93e3-e2ea237f993e",
        "colab": {
          "base_uri": "https://localhost:8080/"
        }
      },
      "execution_count": null,
      "outputs": [
        {
          "output_type": "stream",
          "name": "stdout",
          "text": [
            "Validation loss: 0.6746362447738647\n",
            "Validation accuracy: 0.9608322978019714\n"
          ]
        }
      ]
    },
    {
      "cell_type": "code",
      "source": [
        "# Confusion matrix (validation set)\n",
        "y_pred = model1.predict(X_val)\n",
        "y_pred = (y_pred > 0.5).astype(int)\n",
        "cm = confusion_matrix(y_val, y_pred)\n",
        "cmd = ConfusionMatrixDisplay(cm)\n",
        "cmd.plot()\n",
        "_ = plt.xticks(rotation=90)"
      ],
      "metadata": {
        "id": "WuK0pqRNQdsR",
        "outputId": "474133ca-5fd3-4124-92c3-43acc2271142",
        "colab": {
          "base_uri": "https://localhost:8080/",
          "height": 461
        }
      },
      "execution_count": null,
      "outputs": [
        {
          "output_type": "stream",
          "name": "stdout",
          "text": [
            "\u001b[1m26/26\u001b[0m \u001b[32m━━━━━━━━━━━━━━━━━━━━\u001b[0m\u001b[37m\u001b[0m \u001b[1m16s\u001b[0m 582ms/step\n"
          ]
        },
        {
          "output_type": "display_data",
          "data": {
            "text/plain": [
              "<Figure size 640x480 with 2 Axes>"
            ],
            "image/png": "[encoded data removed]"
          },
          "metadata": {}
        }
      ]
    },
    {
      "cell_type": "markdown",
      "source": [
        "This simple model basically predicts all reviews as not funny, even after undersampling. The high accuracy doesn't mean anything. Going forward more focus is given on predicting the true class."
      ],
      "metadata": {
        "id": "3Mw747BCWvCl"
      }
    },
    {
      "cell_type": "markdown",
      "source": [
        "##Different loss function\n",
        "Not necessary anymore, because of undersampling (I will leave it here if we ever need it again)"
      ],
      "metadata": {
        "id": "7ov9fDaCGxiU"
      }
    },
    {
      "cell_type": "code",
      "source": [
        "# Chat-GPT generated code\n",
        "def focal_loss(alpha=0.25, gamma=2.0):\n",
        "    \"\"\"\n",
        "    Compute focal loss for binary classification.\n",
        "    :param alpha: Balancing factor for positive class\n",
        "    :param gamma: Focusing parameter\n",
        "    \"\"\"\n",
        "    def loss(y_true, y_pred):\n",
        "        y_pred = keras.backend.clip(y_pred, 1e-7, 1 - 1e-7)\n",
        "        p_t = y_true * y_pred + (1 - y_true) * (1 - y_pred)\n",
        "        alpha_factor = y_true * alpha + (1 - y_true) * (1 - alpha)\n",
        "        focal_weight = alpha_factor * keras.backend.pow((1 - p_t), gamma)\n",
        "        return keras.backend.mean(focal_weight * keras.backend.binary_crossentropy(y_true, y_pred))\n",
        "\n",
        "    return loss\n",
        "\n",
        "def precision(y_true, y_pred):\n",
        "    \"\"\"Compute precision metric.\"\"\"\n",
        "    tp = keras.backend.sum(keras.backend.round(y_true * y_pred))\n",
        "    fp = keras.backend.sum(keras.backend.round((1 - y_true) * y_pred))\n",
        "    return tp / (tp + fp + keras.backend.epsilon())\n",
        "\n",
        "def recall(y_true, y_pred):\n",
        "    \"\"\"Compute recall metric.\"\"\"\n",
        "    tp = keras.backend.sum(keras.backend.round(y_true * y_pred))\n",
        "    fn = keras.backend.sum(keras.backend.round(y_true * (1 - y_pred)))\n",
        "    return tp / (tp + fn + keras.backend.epsilon())\n",
        "\n",
        "def f1_score(y_true, y_pred):\n",
        "    \"\"\"Compute F1-score metric.\"\"\"\n",
        "    prec = precision(y_true, y_pred)\n",
        "    rec = recall(y_true, y_pred)\n",
        "    return 2 * (prec * rec) / (prec + rec + keras.backend.epsilon())"
      ],
      "metadata": {
        "id": "J0B-TjEABNA8"
      },
      "execution_count": null,
      "outputs": []
    },
    {
      "cell_type": "code",
      "source": [
        "def Rnnmodel_focal_loss(embedding_size = 128, dropoutrate = 0.2, recurrent_dropoutrate = 0.2, lr = 0.001, alpha = 0.25, gamma = 2):\n",
        "  model = Sequential()\n",
        "  model.add(Embedding(max_features, embedding_size))\n",
        "  model.add(LSTM(32, dropout=dropoutrate, recurrent_dropout=recurrent_dropoutrate))\n",
        "  model.add(Dense(1, activation=\"sigmoid\"))\n",
        "  optimizer = keras.optimizers.AdamW(learning_rate=lr)\n",
        "  model.compile(loss=focal_loss(alpha=alpha, gamma=gamma), optimizer=optimizer, metrics=[\"accuracy\", f1_score])\n",
        "  return model"
      ],
      "metadata": {
        "id": "vHgvnDnQEUGz"
      },
      "execution_count": null,
      "outputs": []
    },
    {
      "cell_type": "code",
      "source": [
        "model2 = Rnnmodel_focal_loss()\n",
        "model2.summary()"
      ],
      "metadata": {
        "id": "LzRSwh0QEnXE",
        "outputId": "6adfd0e1-8c25-484f-c599-4b64dc5a23a5",
        "colab": {
          "base_uri": "https://localhost:8080/",
          "height": 225
        }
      },
      "execution_count": null,
      "outputs": [
        {
          "output_type": "display_data",
          "data": {
            "text/plain": [
              "\u001b[1mModel: \"sequential_1\"\u001b[0m\n"
            ],
            "text/html": [
              "<pre style=\"white-space:pre;overflow-x:auto;line-height:normal;font-family:Menlo,'DejaVu Sans Mono',consolas,'Courier New',monospace\"><span style=\"font-weight: bold\">Model: \"sequential_1\"</span>\n",
              "</pre>\n"
            ]
          },
          "metadata": {}
        },
        {
          "output_type": "display_data",
          "data": {
            "text/plain": [
              "┏━━━━━━━━━━━━━━━━━━━━━━━━━━━━━━━━━━━━━━┳━━━━━━━━━━━━━━━━━━━━━━━━━━━━━┳━━━━━━━━━━━━━━━━━┓\n",
              "┃\u001b[1m \u001b[0m\u001b[1mLayer (type)                        \u001b[0m\u001b[1m \u001b[0m┃\u001b[1m \u001b[0m\u001b[1mOutput Shape               \u001b[0m\u001b[1m \u001b[0m┃\u001b[1m \u001b[0m\u001b[1m        Param #\u001b[0m\u001b[1m \u001b[0m┃\n",
              "┡━━━━━━━━━━━━━━━━━━━━━━━━━━━━━━━━━━━━━━╇━━━━━━━━━━━━━━━━━━━━━━━━━━━━━╇━━━━━━━━━━━━━━━━━┩\n",
              "│ embedding_1 (\u001b[38;5;33mEmbedding\u001b[0m)              │ ?                           │     \u001b[38;5;34m0\u001b[0m (unbuilt) │\n",
              "├──────────────────────────────────────┼─────────────────────────────┼─────────────────┤\n",
              "│ lstm_1 (\u001b[38;5;33mLSTM\u001b[0m)                        │ ?                           │     \u001b[38;5;34m0\u001b[0m (unbuilt) │\n",
              "├──────────────────────────────────────┼─────────────────────────────┼─────────────────┤\n",
              "│ dense_1 (\u001b[38;5;33mDense\u001b[0m)                      │ ?                           │     \u001b[38;5;34m0\u001b[0m (unbuilt) │\n",
              "└──────────────────────────────────────┴─────────────────────────────┴─────────────────┘\n"
            ],
            "text/html": [
              "<pre style=\"white-space:pre;overflow-x:auto;line-height:normal;font-family:Menlo,'DejaVu Sans Mono',consolas,'Courier New',monospace\">┏━━━━━━━━━━━━━━━━━━━━━━━━━━━━━━━━━━━━━━┳━━━━━━━━━━━━━━━━━━━━━━━━━━━━━┳━━━━━━━━━━━━━━━━━┓\n",
              "┃<span style=\"font-weight: bold\"> Layer (type)                         </span>┃<span style=\"font-weight: bold\"> Output Shape                </span>┃<span style=\"font-weight: bold\">         Param # </span>┃\n",
              "┡━━━━━━━━━━━━━━━━━━━━━━━━━━━━━━━━━━━━━━╇━━━━━━━━━━━━━━━━━━━━━━━━━━━━━╇━━━━━━━━━━━━━━━━━┩\n",
              "│ embedding_1 (<span style=\"color: #0087ff; text-decoration-color: #0087ff\">Embedding</span>)              │ ?                           │     <span style=\"color: #00af00; text-decoration-color: #00af00\">0</span> (unbuilt) │\n",
              "├──────────────────────────────────────┼─────────────────────────────┼─────────────────┤\n",
              "│ lstm_1 (<span style=\"color: #0087ff; text-decoration-color: #0087ff\">LSTM</span>)                        │ ?                           │     <span style=\"color: #00af00; text-decoration-color: #00af00\">0</span> (unbuilt) │\n",
              "├──────────────────────────────────────┼─────────────────────────────┼─────────────────┤\n",
              "│ dense_1 (<span style=\"color: #0087ff; text-decoration-color: #0087ff\">Dense</span>)                      │ ?                           │     <span style=\"color: #00af00; text-decoration-color: #00af00\">0</span> (unbuilt) │\n",
              "└──────────────────────────────────────┴─────────────────────────────┴─────────────────┘\n",
              "</pre>\n"
            ]
          },
          "metadata": {}
        },
        {
          "output_type": "display_data",
          "data": {
            "text/plain": [
              "\u001b[1m Total params: \u001b[0m\u001b[38;5;34m0\u001b[0m (0.00 B)\n"
            ],
            "text/html": [
              "<pre style=\"white-space:pre;overflow-x:auto;line-height:normal;font-family:Menlo,'DejaVu Sans Mono',consolas,'Courier New',monospace\"><span style=\"font-weight: bold\"> Total params: </span><span style=\"color: #00af00; text-decoration-color: #00af00\">0</span> (0.00 B)\n",
              "</pre>\n"
            ]
          },
          "metadata": {}
        },
        {
          "output_type": "display_data",
          "data": {
            "text/plain": [
              "\u001b[1m Trainable params: \u001b[0m\u001b[38;5;34m0\u001b[0m (0.00 B)\n"
            ],
            "text/html": [
              "<pre style=\"white-space:pre;overflow-x:auto;line-height:normal;font-family:Menlo,'DejaVu Sans Mono',consolas,'Courier New',monospace\"><span style=\"font-weight: bold\"> Trainable params: </span><span style=\"color: #00af00; text-decoration-color: #00af00\">0</span> (0.00 B)\n",
              "</pre>\n"
            ]
          },
          "metadata": {}
        },
        {
          "output_type": "display_data",
          "data": {
            "text/plain": [
              "\u001b[1m Non-trainable params: \u001b[0m\u001b[38;5;34m0\u001b[0m (0.00 B)\n"
            ],
            "text/html": [
              "<pre style=\"white-space:pre;overflow-x:auto;line-height:normal;font-family:Menlo,'DejaVu Sans Mono',consolas,'Courier New',monospace\"><span style=\"font-weight: bold\"> Non-trainable params: </span><span style=\"color: #00af00; text-decoration-color: #00af00\">0</span> (0.00 B)\n",
              "</pre>\n"
            ]
          },
          "metadata": {}
        }
      ]
    },
    {
      "cell_type": "code",
      "source": [
        "history = model2.fit(X_train, y_train, batch_size=128, epochs=3, validation_data=(X_val, y_val))\n",
        "plot_history(history)"
      ],
      "metadata": {
        "id": "OaMSUfOaHw-g",
        "outputId": "ff5c793a-8805-4655-9e50-1e59346d0569",
        "colab": {
          "base_uri": "https://localhost:8080/",
          "height": 415
        }
      },
      "execution_count": null,
      "outputs": [
        {
          "output_type": "stream",
          "name": "stdout",
          "text": [
            "Epoch 1/3\n",
            "\u001b[1m10/10\u001b[0m \u001b[32m━━━━━━━━━━━━━━━━━━━━\u001b[0m\u001b[37m\u001b[0m \u001b[1m63s\u001b[0m 6s/step - accuracy: 0.5253 - f1_score: 0.1247 - loss: 0.0761 - val_accuracy: 0.9608 - val_f1_score: 0.0000e+00 - val_loss: 0.0622\n",
            "Epoch 2/3\n",
            "\u001b[1m10/10\u001b[0m \u001b[32m━━━━━━━━━━━━━━━━━━━━\u001b[0m\u001b[37m\u001b[0m \u001b[1m54s\u001b[0m 5s/step - accuracy: 0.4978 - f1_score: 0.0000e+00 - loss: 0.0727 - val_accuracy: 0.9608 - val_f1_score: 0.0000e+00 - val_loss: 0.0641\n",
            "Epoch 3/3\n",
            "\u001b[1m10/10\u001b[0m \u001b[32m━━━━━━━━━━━━━━━━━━━━\u001b[0m\u001b[37m\u001b[0m \u001b[1m58s\u001b[0m 6s/step - accuracy: 0.5080 - f1_score: 0.0000e+00 - loss: 0.0722 - val_accuracy: 0.9608 - val_f1_score: 0.0000e+00 - val_loss: 0.0607\n"
          ]
        },
        {
          "output_type": "display_data",
          "data": {
            "text/plain": [
              "<Figure size 1000x300 with 3 Axes>"
            ],
            "image/png": "[encoded data removed]"
          },
          "metadata": {}
        }
      ]
    },
    {
      "cell_type": "code",
      "source": [
        "score = model2.evaluate(X_val, y_val, verbose=0)\n",
        "\n",
        "print(\"Validation loss:\", score[0])\n",
        "print(\"Validation accuracy:\", score[1])\n",
        "print(\"Validation F1-score:\", score[2])"
      ],
      "metadata": {
        "id": "zY3s4CXNEwgu",
        "outputId": "df56d9df-e07b-43d3-f89f-343ffecd95ab",
        "colab": {
          "base_uri": "https://localhost:8080/"
        }
      },
      "execution_count": null,
      "outputs": [
        {
          "output_type": "stream",
          "name": "stdout",
          "text": [
            "Validation loss: 0.06067948043346405\n",
            "Validation accuracy: 0.9608322978019714\n",
            "Validation F1-score: 0.0\n"
          ]
        }
      ]
    },
    {
      "cell_type": "code",
      "source": [
        "# Confusion matrix (validation set)\n",
        "y_pred = model2.predict(X_val)\n",
        "y_pred = (y_pred > 0.5).astype(int)\n",
        "cm = confusion_matrix(y_val, y_pred)\n",
        "cmd = ConfusionMatrixDisplay(cm)\n",
        "cmd.plot()\n",
        "_ = plt.xticks(rotation=90)"
      ],
      "metadata": {
        "id": "SnWNkKR7E0_G",
        "outputId": "65ff8c8d-0a28-4abf-d226-0b9aa4e3b3b8",
        "colab": {
          "base_uri": "https://localhost:8080/",
          "height": 461
        }
      },
      "execution_count": null,
      "outputs": [
        {
          "output_type": "stream",
          "name": "stdout",
          "text": [
            "\u001b[1m26/26\u001b[0m \u001b[32m━━━━━━━━━━━━━━━━━━━━\u001b[0m\u001b[37m\u001b[0m \u001b[1m21s\u001b[0m 801ms/step\n"
          ]
        },
        {
          "output_type": "display_data",
          "data": {
            "text/plain": [
              "<Figure size 640x480 with 2 Axes>"
            ],
            "image/png": "[encoded data removed]"
          },
          "metadata": {}
        }
      ]
    }
  ]
}